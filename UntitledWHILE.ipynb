{
  "nbformat": 4,
  "nbformat_minor": 0,
  "metadata": {
    "colab": {
      "provenance": []
    },
    "kernelspec": {
      "name": "python3",
      "display_name": "Python 3"
    },
    "language_info": {
      "name": "python"
    }
  },
  "cells": [
    {
      "cell_type": "code",
      "source": [
        "# 1 - Faça um programa que peça uma nota, entre zero e dez. Mostre uma mensagem caso o valor seja inválido e\n",
        "#continue pedindo até que o usuário informe um valor válido.\n",
        "\n",
        "# Solicita ao usuário que insira uma nota e converte o valor para um número de ponto flutuante (float)[ok]\n",
        "\n",
        "# Entra em um loop enquanto a nota estiver fora do intervalo permitido (menor que 0 ou maior que 10)[ok]\n",
        "\n",
        "# Se a nota estiver fora do intervalo, solicita ao usuá rio que insira uma nota válida[ok]\n",
        "\n",
        "\n",
        "nota = float(input(\"Digite uma nota entre zero e dez: \"))\n",
        "while nota > 10 or nota < 0:\n",
        "  nota = float(input(\"Digite um valor válido:  \"))\n",
        "print(\"SUCESSO\")\n"
      ],
      "metadata": {
        "id": "1b8zzHrkF_RL"
      },
      "execution_count": null,
      "outputs": []
    },
    {
      "cell_type": "code",
      "source": [
        "# 2 - Faça um programa que leia um nome de usuário e a sua senha e não aceite a senha igual ao nome do usuário, mostrando uma mensagem de erro e voltando a pedir as informações.\n",
        "\n",
        "# Solicita ao usuário que insira o nome de usuário e armazena o valor em 'nome'[ok]\n",
        "\n",
        "# Solicita ao usuário que insira a senha e armazena o valor em 'senha'[ok]\n",
        "\n",
        "# Entra em um loop enquanto a senha for igual ao nome de usuário[ok]\n",
        "\n",
        "# Se a senha for igual ao nome de usuário, imprime uma mensagem de erro[ok]\n",
        "\n",
        "# Solicita ao usuário que insira novamente o nome de usuário e a senha[ok]\n",
        "\n",
        "\n",
        "nome = input(\"Digite o nome de usuário: \")\n",
        "senha = input(\"Digite a senha: \")\n",
        "\n",
        "while senha == nome:\n",
        "  print(\"Erro\")\n",
        "\n",
        "  nome =  input(\"Digite o nome de usuário novamente: \")\n",
        "  senha = input(\"Digite a senha novamente: \")\n",
        "  print(\"Nome de usuário e senha corretos!\")\n"
      ],
      "metadata": {
        "id": "dY_6jFRzG-QU"
      },
      "execution_count": null,
      "outputs": []
    },
    {
      "cell_type": "code",
      "source": [
        "# 3 - Escreva um programa que conte de 1 a 10 e imprima cada número.\n",
        "\n",
        "# Inicializa a variável 'numero' com o valor 1[ok]\n",
        "\n",
        "# Entra em um loop while enquanto 'numero' for menor ou igual[ok]\n",
        "\n",
        "# Imprime o valor atual de 'numero'[ok]\n",
        "\n",
        "# Incrementa o valor de 'numero' em 1 para que o loop pro Escreva um[ok]\n",
        "\n",
        "numero = 1\n",
        "\n",
        "while numero <= 10:\n",
        "  print(numero)\n",
        "  numero += 1"
      ],
      "metadata": {
        "id": "ubN9SpgFG-k5"
      },
      "execution_count": null,
      "outputs": []
    },
    {
      "cell_type": "code",
      "source": [
        "# 4 - Escreva um programa que imprima os números pares de 1 a 20.\n",
        "\n",
        "# Inicializa a variável 'numero' com o valor 2[ok]\n",
        "\n",
        "# Entra em um loop while enquanto 'numero' for menor ou igual[ok]\n",
        "\n",
        "# Imprime o valor atual de 'numero'[ok]\n",
        "\n",
        "# Incrementa o valor de 'numero' em 2 para que o próximo[ok]\n",
        "\n",
        "numero = 2\n",
        "\n",
        "while numero <= 20:\n",
        "  print(numero)\n",
        "  numero += 2"
      ],
      "metadata": {
        "id": "wPsigm_QVReA"
      },
      "execution_count": null,
      "outputs": []
    },
    {
      "cell_type": "code",
      "source": [
        "# 5 - Escreva um programa que solicite ao usuário que insira um número e, em seguida, imprima todos os números de 1 até esse número.\n",
        "\n",
        "# Solicita ao usuário que insira um número e converte o valor[ok]\n",
        "\n",
        "# Inicializa a variável 'contador' com o valor 1[ok]\n",
        "\n",
        "# Entra em um loop while enquanto 'contador' for menor ou igual[ok]\n",
        "\n",
        "# Imprime o valor atual de 'contador'[ok]\n",
        "\n",
        "# Incrementa o valor de 'contador' em 1 para que o próximo[ok]\n",
        "\n",
        "numero = int(input(\"Insira um número: \"))\n",
        "\n",
        "contador = 1\n",
        "\n",
        "while contador <= numero:\n",
        "  print(contador)\n",
        "  contador += 1\n"
      ],
      "metadata": {
        "id": "7vuqRDcdXiBc"
      },
      "execution_count": null,
      "outputs": []
    },
    {
      "cell_type": "code",
      "source": [
        "# 6 - Escreva um programa que solicite ao usuário que insira um número e, em seguida, imprima todos os números pares de 2 até esse número.\n",
        "\n",
        "# Solicita ao usuário que insira um número e converte o valor[ok]\n",
        "\n",
        "# Inicializa a variável 'contador' com o valor 2[ok]\n",
        "\n",
        "# Entra em um loop while enquanto 'contador' for menor ou igual[ok]\n",
        "\n",
        "# Imprime o valor atual de 'contador' (um número par)[ok]\n",
        "\n",
        "# Incrementa o valor de 'contador' em 2 para que o próximo [ok]\n",
        "\n",
        "numero = int(input(\"Insira um número: \"))\n",
        "\n",
        "contador = 2\n",
        "\n",
        "while contador <= numero:\n",
        "  print(contador)\n",
        "  contador += 2\n"
      ],
      "metadata": {
        "id": "td_rq0bzYqK8"
      },
      "execution_count": null,
      "outputs": []
    },
    {
      "cell_type": "code",
      "source": [
        "# 7 - Escreva um programa que solicite ao usuário que insira um número e, em seguida, imprima a tabuada desse número até 10.\n",
        "\n",
        "# Solicita ao usuário que insira um número e converte o valor[ok]\n",
        "\n",
        "# Inicializa a variável 'contador' com o valor 1[ok]\n",
        "\n",
        "#cabeçalho indicando qual é a tabuada do número inteiro[ok]\n",
        "\n",
        "# Entra em um loop while enquanto 'contador' for menor ou igual[ok]\n",
        "\n",
        "# Calcula o resultado da multiplicação entre 'numero' e 'contador'[ok]\n",
        "\n",
        "# Imprime a expressão da tabuada ('numero' x 'contador' =  )[ok]\n",
        "\n",
        "# Incrementa o valor de 'contador' em 1 para passar para a[ok]\n",
        "\n",
        "\n",
        "numero = int(input(\"Digite um número: \"))\n",
        "\n",
        "contador = 1\n",
        "\n",
        "while contador <= 10:\n",
        "  resultado = numero * contador\n",
        "  print(f\"{numero} X {contador} = {resultado}\")\n",
        "  contador += 1\n",
        "\n",
        "\n"
      ],
      "metadata": {
        "id": "wsGcML7FY0Tx"
      },
      "execution_count": null,
      "outputs": []
    },
    {
      "cell_type": "code",
      "source": [
        "# 8 -Escreva um programa que solicite ao usuário que insira uma senha. O programa deve continuar solicitando a senha até que o usuário insira a senha\n",
        "#correta.\n",
        "\n",
        "# Define a senha correta[ok]\n",
        "\n",
        "# Solicita ao usuário que insira uma senha e armazena o valor[ok]\n",
        "\n",
        "# Entra em um loop while enquanto a senha inserida não for igual[ok]\n",
        "\n",
        "# Se a senha inserida for diferente da senha correta, imp[ok]\n",
        "\n",
        "# Solicita novamente ao usuário que insira a senha e atual[ok]\n",
        "\n",
        "# Quando a senha inserida for igual à senha correta, imprime[ok]\n",
        "\n",
        "senha = \"Money\"\n",
        "senhat = input(\"Insira uma senha: \")\n",
        "\n",
        "while senha != senhat:\n",
        " print(\"Tente novamente: \")\n",
        "\n",
        " senhat = input(\"Insira a senha novamente: \")\n",
        " print(\"Senha correta\")\n"
      ],
      "metadata": {
        "id": "TGKNEw6Qdbj0"
      },
      "execution_count": null,
      "outputs": []
    },
    {
      "cell_type": "code",
      "source": [
        "# 8 -Escreva um programa que solicite ao usuário que insira uma senha. O programa deve continuar solicitando a senha até que o usuário insira a senha\n",
        "#correta.\n",
        "\n",
        "# Define a senha correta[ok]\n",
        "\n",
        "# Solicita ao usuário que insira uma senha e armazena o valor[ok]\n",
        "\n",
        "# Entra em um loop while enquanto a senha inserida não for igual[ok]\n",
        "\n",
        "# Se a senha inserida for diferente da senha correta, imp[ok]\n",
        "\n",
        "# Solicita novamente ao usuário que insira a senha e atual[ok]\n",
        "\n",
        "# Quando a senha inserida for igual à senha correta, imprime[ok]\n",
        "\n",
        "senha = \"Money\"\n",
        "senhat = input(\"Insira uma senha: \")\n",
        "\n",
        "while senha != senhat:\n",
        " print(\"Senha inválida\")\n",
        "\n",
        " senhat = input(\"Insira a senha novamente: \")\n",
        "if senhat == senha:\n",
        " print(\"Senha correta\")"
      ],
      "metadata": {
        "id": "HGRnnZjtT3bs"
      },
      "execution_count": null,
      "outputs": []
    },
    {
      "cell_type": "code",
      "source": [
        "# 9 -Escreva um programa que calcule a média de uma lista de números fornecida pelo usuário.\n",
        "\n",
        "soma = 0\n",
        "contador = 0\n",
        "\n",
        "print(\"Insira alguns números. Digite 'Pronto' para encerrar.\")\n",
        "numero = input(\"Insira um número ou 'Pronto' para encerrar: \")\n",
        "\n",
        "while numero != \"Pronto\" and numero != \"pronto\":\n",
        "    soma += float(numero)\n",
        "    contador += 1\n",
        "    numero = input(\"Insira um Número ou 'Pronto' para terminar: \")\n",
        "\n",
        "if contador > 0:\n",
        "    media = soma / contador\n",
        "    print(\"A Média Dos Números é:\", media)\n"
      ],
      "metadata": {
        "id": "f58gvmwIQ-oR"
      },
      "execution_count": null,
      "outputs": []
    },
    {
      "cell_type": "code",
      "source": [
        "# 10 - Escreva um programa que solicite ao usuário que insira números até que ele insira o número 0. Em seguida,\n",
        "#imprima a soma de todos os números inseridos.\n",
        "\n",
        "# Inicializa a variável 'soma' para armazenar a soma dos número [ok]\n",
        "\n",
        "# Solicita ao usuário que insira um número inicial e converte[ok]\n",
        "\n",
        "# Entra em um loop while enquanto o número inserido pelo usuário[ok]\n",
        "\n",
        "# Adiciona o número inserido à soma[ok]\n",
        "\n",
        "# Solicita ao usuário que insira outro número e atualiza o[ok]\n",
        "\n",
        "# Quando o usuário insere o número 0 para sair do loop, imprim[ok]\n",
        "\n",
        "\n",
        "soma = 0\n",
        "\n",
        "print(\"Insira alguns números. Insira 0 para terminar.\")\n",
        "numero = float(input(\"Digite um número: \"))\n",
        "\n",
        "while numero != 0:\n",
        "    soma += numero\n",
        "    numero = float(input(\"Digite um número: \"))\n",
        "\n",
        "print(\"A soma dos números é:\", soma)\n",
        "\n"
      ],
      "metadata": {
        "id": "5ZY1rK1fe9o5"
      },
      "execution_count": null,
      "outputs": []
    },
    {
      "cell_type": "code",
      "source": [
        "# 11 -\n",
        "\n",
        "print(\"Insira alguns números. Insira um número negativo para encerrar.\")\n",
        "numero = float(input(\"Digite um número. Digite um número negativo para terminar: \"))\n",
        "\n",
        "maiornumero = numero\n",
        "\n",
        "while numero >= 0:\n",
        "\n",
        "    if numero > maiornumero:\n",
        "        maiornumero = numero\n",
        "\n",
        "    numero = float(input(\"Digite um número. Digite um número negativo para terminar: \"))\n",
        "\n",
        "print(\"O Maior Número é:\", maiornumero)"
      ],
      "metadata": {
        "id": "E_pqrxzsQX9T"
      },
      "execution_count": null,
      "outputs": []
    }
  ]
}