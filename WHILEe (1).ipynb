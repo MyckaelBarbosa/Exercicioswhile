{
  "nbformat": 4,
  "nbformat_minor": 0,
  "metadata": {
    "colab": {
      "provenance": []
    },
    "kernelspec": {
      "name": "python3",
      "display_name": "Python 3"
    },
    "language_info": {
      "name": "python"
    }
  },
  "cells": [
    {
      "cell_type": "code",
      "execution_count": null,
      "metadata": {
        "id": "GWah_JphApfz"
      },
      "outputs": [],
      "source": [
        "# 1. Faça um programa que peça uma nota, entre zero e dez. Mostre uma mensagem caso o valor seja inválido e\n",
        "# continue pedindo até que o usuário informe um valor válido.\n",
        "\n",
        "nota = float(input(\"Digite uma nota entre zero e dez: \"))\n",
        "while nota > 10 or nota < 0:\n",
        "  nota = float(input(\"Digite um valor válido:  \"))\n",
        "print(\"Siiii\")"
      ]
    },
    {
      "cell_type": "code",
      "source": [
        "# 2. Faça um programa que calcule o mostre a média aritmética de N notas.\n",
        "\n",
        "soma = 0\n",
        "contador = 0\n",
        "\n",
        "print(\"Insira alguns números. Digite 'Pronto' para encerrar.\")\n",
        "n = input(\"Insira um número ou 'Pronto' para encerrar: \")\n",
        "\n",
        "while n != \"Pronto\" and n != \"pronto\":\n",
        "    soma += float(n)\n",
        "    contador += 1\n",
        "    n = input(\"Insira um Número ou 'Pronto' para terminar: \")\n",
        "\n",
        "if contador > 0:\n",
        "    media = soma / contador\n",
        "    print(\"A Média Dos Números é:\", media)"
      ],
      "metadata": {
        "id": "mXtLkQoMBE9x"
      },
      "execution_count": null,
      "outputs": []
    },
    {
      "cell_type": "code",
      "source": [
        "# 3. Faça um programa que leia um nome de usuário e a sua senha e não aceite a\n",
        "# senha igual ao nome do usuário, mostrando uma mensagem de erro e voltando a pedir as informações.\n",
        "\n",
        "nomeu = input(\"Digite o nome de usuário: \")\n",
        "senha = input(\"Digite a senha: \")\n",
        "\n",
        "while senha == nomeu:\n",
        "  print(\"Erro\")\n",
        "\n",
        "  nomeu =  input(\"Digite o nome de usuário novamente: \")\n",
        "  senha = input(\"Digite a senha novamente: \")\n",
        "  print(\"Nome de usuário e senha corretos!\")"
      ],
      "metadata": {
        "id": "_n8hUH2RBFuO"
      },
      "execution_count": null,
      "outputs": []
    },
    {
      "cell_type": "code",
      "source": [
        "# 4. Um funcionário de uma empresa recebe aumento salarial anualmente. Sabe-se que: Esse funcionário foi contratado em 1995, com salário inicial\n",
        "# de R$1.000,00; Em 1996 recebeu aumento de 1,5% sobre seu salário inicial; A partir de 1997 (inclusive), os aumentos salariais sempre correspondem ao dobro do\n",
        "# percentual do ano anterior. Faça um programa que determine o salário atual desse funcionário. Após concluir isto, altere o programa permitindo que o usuário digite o\n",
        "# salário inicial do funcionário.\n",
        "\n",
        "salario = float(input(\"Dgite o salário inicial do funcionário em 1995: \"))\n",
        "ano = 1995\n",
        "ano_atual = int(input(\"Digite em que ano estamos: \"))\n",
        "aumento = 1.5 / 100  # 1.5%\n",
        "\n",
        "while ano < ano_atual:\n",
        "    ano += 1\n",
        "    salario *= 1 + aumento\n",
        "    aumento *= 2\n",
        "\n",
        "print(f\"O salario em {ano} é de R$ {salario:.2f}\")"
      ],
      "metadata": {
        "id": "PyX_U7EOBI4S"
      },
      "execution_count": null,
      "outputs": []
    },
    {
      "cell_type": "code",
      "source": [
        "# 5. Faça um programa que leia e valide as seguintes informações:\n",
        "\n",
        "#  Nome: maior que 3 caracteres;\n",
        "#  Idade: entre 0 e 150;\n",
        "#  Salário: maior que zero;\n",
        "#  Sexo: 'f' ou 'm';\n",
        "#  Estado Civil: 's', 'c', 'v', 'd';\n",
        "\n",
        "#  Nome: maior que 3 caracteres;\n",
        "\n",
        "\n",
        "\n",
        "nome = input(\"Digite o nome: \")\n",
        "while len(nome) < 3:\n",
        "    print(\"Nome inválido!\")\n",
        "    nome = input(\"Digite o nome: \")\n",
        "\n",
        "\n",
        "#  Idade: entre 0 e 150;\n",
        "\n",
        "idade = int(input(\"Digite a idade: \"))\n",
        "while idade < 0 or idade > 150:\n",
        "    print(\"Idade inválida!\")\n",
        "    idade = int(input(\"Digite a idade: \"))\n",
        "\n",
        "\n",
        "#  Salário: maior que zero;\n",
        "\n",
        "salario = int(input(\"Digite o salário: \"))\n",
        "while salario <= 0:\n",
        "    print(\"Salario inválido!\")\n",
        "    salario = int(input(\"Digite o salário: \"))\n",
        "\n",
        "#  Sexo: 'f' ou 'm';\n",
        "\n",
        "sexo = input(\"Digite o sexo 'f' para feminino ou 'm' para masculino : \")\n",
        "while sexo != \"f\" and sexo != \"m\":\n",
        "  print(\"Sexo inválido\")\n",
        "  sexo = input(\"Digite o sexo novamente: \")\n",
        "\n",
        "\n",
        "if sexo == \"f\":\n",
        "        print(\"feminino\")\n",
        "else:\n",
        "        print(\"masculino\")\n",
        "\n",
        "        print(\"Sexo válido\")\n",
        "\n",
        "#  Estado Civil: 's', 'c', 'v', 'd';\n",
        "\n",
        "estadocivil = input(\"Digite Seu Estado Civil: 'S' (Solteiro), 'C' (Casado), 'V' (Viúvo), 'D' (Divorciado): \")\n",
        "while estadocivil != 'S' and estadocivil != 's' and estadocivil != 'C' and estadocivil != 'c' and estadocivil != 'V' and estadocivil != 'v' and estadocivil != 'D' and estadocivil != 'd':\n",
        "    estadocivil = input(\"Digite Seu Estado Civil Novamente: \")\n",
        "\n",
        "print()\n",
        "print(\"Informações\")\n",
        "print(\"Nome:\", nome)\n",
        "print(\"Idade:\", idade)\n",
        "print(\"Salário:\", salario)\n",
        "print(\"Sexo:\", sexo)\n",
        "print(\"Estado Civil:\", estadocivil)"
      ],
      "metadata": {
        "id": "IuoLR7nCBLPD"
      },
      "execution_count": null,
      "outputs": []
    },
    {
      "cell_type": "code",
      "source": [
        "#6. Supondo que a população de um país A seja da ordem de 80000 habitantes com\n",
        "#uma taxa anual de crescimento de 3% e que a população de B seja 200000\n",
        "#habitantes com uma taxa de crescimento de 1.5%. Faça um programa que calcule e\n",
        "#escreva o número de anos necessários para que a população do país A ultrapasse\n",
        "#ou iguale a população do país B, mantidas as taxas de crescimento.\n",
        "\n",
        "A = 80000\n",
        "taxacrescimentoA = 0.03\n",
        "B = 200000\n",
        "taxacrescimentoB = 0.015\n",
        "anos = 0\n",
        "\n",
        "while A < B:\n",
        "    A *= 1 + taxacrescimentoA\n",
        "    B *= 1 + taxacrescimentoB\n",
        "    anos += 1\n",
        "\n",
        "print(f\"Necessários {anos} Anos Para Que a População do País A Ultrapasse ou Iguale a População do País B: \")"
      ],
      "metadata": {
        "id": "R2TNx9bIBRni"
      },
      "execution_count": null,
      "outputs": []
    },
    {
      "cell_type": "code",
      "source": [
        "# 7. Faça um programa que calcule o fatorial de um número inteiro fornecido pelo usuário. Ex.: 5!=5.4.3.2.1=120\n",
        "\n",
        "numero = int(input(\"Digite um número inteiro positivo: \"))\n",
        "\n",
        "if numero < 0:\n",
        "    print(\"Não Existe Fatorial em Números Negativos.\")\n",
        "elif numero == 0:\n",
        "    print(\"O Fatorial de 0 é Sempre 1.\")\n",
        "else:\n",
        "    fatorial = 1\n",
        "    fator = 1\n",
        "    while fator <= numero:\n",
        "        fatorial *= fator\n",
        "        fator += 1\n",
        "    print(f\"O fatorial de {numero} é {fatorial}.\")"
      ],
      "metadata": {
        "id": "Ewmw78C-BVqG"
      },
      "execution_count": null,
      "outputs": []
    },
    {
      "cell_type": "code",
      "source": [
        "# 8. Faça um programa que solicite ao usuário números indefinidamente até que ele digite 0. Em seguida,\n",
        "# o programa deve imprimir a média dos números digitados.\n",
        "# 8. Faça um programa que solicite ao usuário números indefinidamente até que ele digite 0. Em seguida,\n",
        "# o programa deve imprimir a média dos números digitados.\n",
        "\n",
        "soma = 0\n",
        "contador = 0\n",
        "\n",
        "numero = input(\"Digite alguns números ou '0' para terminar: \")\n",
        "\n",
        "while numero != '0':\n",
        "    soma += float(numero)\n",
        "    contador += 1\n",
        "    numero = input(\"Digite alguns números ou '0' para terminar: \")\n",
        "\n",
        "if contador > 0:\n",
        "    media = soma / contador\n",
        "    print(\"A Média Dos Números é:\", media)"
      ],
      "metadata": {
        "id": "W8FfhpwaBY0A"
      },
      "execution_count": null,
      "outputs": []
    },
    {
      "cell_type": "code",
      "source": [
        "#10\n",
        "\n",
        "print(\"Bem vindo a Lojas Tabajara\")\n",
        "\n",
        "continuar = \"S\"\n",
        "\n",
        "while continuar == \"S\" or continuar == \"s\":\n",
        "    total = 0\n",
        "    numproduto = 0\n",
        "\n",
        "    precoproduto = float(input(f\"Produto {numproduto + 1} (digite 0 para finalizar): \"))\n",
        "\n",
        "    while precoproduto != 0:\n",
        "        total += precoproduto\n",
        "        numproduto += 1\n",
        "        precoproduto = float(input(f\"Produto {numproduto + 1} (digite 0 para finalizar): \"))\n",
        "\n",
        "    print(f\"Total: R$ {total:.2f}\")\n",
        "\n",
        "    dinheiro = float(input(\"Dinheiro: \"))\n",
        "    troco = dinheiro - total\n",
        "\n",
        "    print(f\"Troco: R$ {troco:.2f}\")\n",
        "\n",
        "    outracompra = input(\"Deseja Comprar Outra Coisa? (S/N): \")\n",
        "\n",
        "    if outracompra == 'N' or outracompra == 'n':\n",
        "        print(\"Tenha um Bom Dia!\")\n",
        "        continuar = 'N'"
      ],
      "metadata": {
        "id": "womw0w_qBvRv"
      },
      "execution_count": null,
      "outputs": []
    },
    {
      "cell_type": "code",
      "source": [
        "#11\n",
        "\n",
        "cardapio = {\n",
        "    100: {\"nome\": \"Cachorro Quente\", \"preco\": 1.20},\n",
        "    101: {\"nome\": \"Bauru Simples\", \"preco\": 1.30},\n",
        "    102: {\"nome\": \"Bauru com Ovo\", \"preco\": 1.50},\n",
        "    103: {\"nome\": \"Hambúrguer\", \"preco\": 1.20},\n",
        "    104: {\"nome\": \"Cheeseburguer\", \"preco\": 1.30},\n",
        "    105: {\"nome\": \"Refrigerante\", \"preco\": 1.00}\n",
        "}\n",
        "\n",
        "pedidos = 0\n",
        "code = int(input(\"Digite o código do item (ou 0 para encerrar o pedido): \"))\n",
        "\n",
        "while code != 0:\n",
        "    if code in cardapio:\n",
        "        quantidade = int(input(\"Digite a quantidade desejada: \"))\n",
        "        item = cardapio[code]\n",
        "        totalitem = item[\"preco\"] * quantidade\n",
        "        pedidos += totalitem\n",
        "        print(f\"{quantidade} x {item['nome']}: R$ {totalitem:.2f}\")\n",
        "    else:\n",
        "        print(\"Código inválido. Por favor, digite um código válido.\")\n",
        "    code = int(input(\"Digite o código do item (ou 0 para encerrar o pedido): \"))\n",
        "\n",
        "print(f\"Total do pedido: R$ {pedidos:.2f}\")"
      ],
      "metadata": {
        "id": "Nc7QmiO5B0Fv"
      },
      "execution_count": null,
      "outputs": []
    }
  ]
}